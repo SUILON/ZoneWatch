{
 "cells": [
  {
   "cell_type": "code",
   "execution_count": 1,
   "id": "163f1466-fd40-4b66-b53e-3d2539bfd765",
   "metadata": {},
   "outputs": [],
   "source": [
    "from sklearn.datasets import fetch_california_housing\n",
    "from sklearn.model_selection import train_test_split\n",
    "from sklearn.ensemble import RandomForestRegressor\n",
    "from sklearn.metrics import mean_squared_error as MSE\n",
    "from sklearn.metrics import r2_score\n",
    "from matplotlib import pyplot as plt\n",
    "import seaborn as sns\n",
    "sns.set()\n",
    "\n",
    "import mlflow\n",
    "import mlflow.sklearn\n",
    "from mlflow.models.signature import infer_signature\n",
    "import pandas as pd"
   ]
  },
  {
   "cell_type": "code",
   "execution_count": 2,
   "id": "922bef2a-07b6-49cd-a7c5-2e7a0a132cd8",
   "metadata": {},
   "outputs": [],
   "source": [
    "# データセットの読み込み\n",
    "dataset = fetch_california_housing(as_frame=True)\n",
    "df = dataset['frame']\n",
    "\n",
    "# データセットを説明変数と目的変数に分ける\n",
    "target_col = 'MedHouseVal'\n",
    "X, y = df.drop(columns=[target_col]), df[target_col]\n",
    "\n",
    "# データセットを訓練と検証データに分割\n",
    "X_train, X_test, y_train, y_test = train_test_split(X, y, test_size=0.2, random_state=0)\n",
    "signature = infer_signature(X_train, y_train)"
   ]
  },
  {
   "cell_type": "code",
   "execution_count": 3,
   "id": "afe9fb69-b624-4611-9138-0a40d0bf1074",
   "metadata": {},
   "outputs": [],
   "source": [
    "def train(n_estimators, max_depth):\n",
    "    # モデルの定義\n",
    "    model = RandomForestRegressor(\n",
    "                n_estimators = n_estimators,\n",
    "                max_depth = max_depth,\n",
    "                criterion = 'squared_error',  # 'mse'\n",
    "                random_state = 0,\n",
    "            )\n",
    "\n",
    "    # 訓練\n",
    "    model.fit(X_train, y_train)\n",
    "\n",
    "    # 検証データの予測\n",
    "    y_pred = model.predict(X_test)\n",
    "\n",
    "    # MSE誤差, R2値の算出\n",
    "    mse = MSE(y_pred, y_test)\n",
    "    R2 = r2_score(y_pred, y_test)\n",
    "\n",
    "    return model, mse, R2"
   ]
  },
  {
   "cell_type": "code",
   "execution_count": 4,
   "id": "e0744f49-a4a9-4bae-9670-1de1e003038f",
   "metadata": {},
   "outputs": [
    {
     "name": "stdout",
     "output_type": "stream",
     "text": [
      "trial 1: n_estimators=10, max_depth=1, MSE = 0.91, R2 = -1.33\n",
      "🏃 View run crawling-bear-311 at: http://mlflow:5000/#/experiments/0/runs/29320c771634467586290261fedea124\n",
      "🧪 View experiment at: http://mlflow:5000/#/experiments/0\n",
      "trial 2: n_estimators=10, max_depth=5, MSE = 0.487, R2 = 0.38\n",
      "🏃 View run clean-ape-428 at: http://mlflow:5000/#/experiments/0/runs/7dd1c1d3e6ba4359a7d57c79b71322ac\n",
      "🧪 View experiment at: http://mlflow:5000/#/experiments/0\n",
      "trial 3: n_estimators=10, max_depth=10, MSE = 0.312, R2 = 0.676\n",
      "🏃 View run upbeat-midge-23 at: http://mlflow:5000/#/experiments/0/runs/6eec7e1b770f4b259d696cb4179d7f60\n",
      "🧪 View experiment at: http://mlflow:5000/#/experiments/0\n",
      "trial 4: n_estimators=100, max_depth=1, MSE = 0.909, R2 = -1.32\n",
      "🏃 View run bouncy-snipe-828 at: http://mlflow:5000/#/experiments/0/runs/e471b591c026429e841321f863baa534\n",
      "🧪 View experiment at: http://mlflow:5000/#/experiments/0\n",
      "trial 5: n_estimators=100, max_depth=5, MSE = 0.481, R2 = 0.382\n",
      "🏃 View run enchanting-snipe-687 at: http://mlflow:5000/#/experiments/0/runs/9521d00ea28c41ceaf3291e225699550\n",
      "🧪 View experiment at: http://mlflow:5000/#/experiments/0\n",
      "trial 6: n_estimators=100, max_depth=10, MSE = 0.304, R2 = 0.679\n",
      "🏃 View run nimble-shark-935 at: http://mlflow:5000/#/experiments/0/runs/17e24a407ed847f1bf1ad7f45dc81fe6\n",
      "🧪 View experiment at: http://mlflow:5000/#/experiments/0\n",
      "trial 7: n_estimators=1000, max_depth=1, MSE = 0.905, R2 = -1.33\n",
      "🏃 View run treasured-tern-977 at: http://mlflow:5000/#/experiments/0/runs/c820a1cc269e47389b20820a3ec124ae\n",
      "🧪 View experiment at: http://mlflow:5000/#/experiments/0\n",
      "trial 8: n_estimators=1000, max_depth=5, MSE = 0.479, R2 = 0.382\n",
      "🏃 View run likeable-crane-271 at: http://mlflow:5000/#/experiments/0/runs/4a0f5a3ad1714eb09c2bf3b458f78b38\n",
      "🧪 View experiment at: http://mlflow:5000/#/experiments/0\n",
      "trial 9: n_estimators=1000, max_depth=10, MSE = 0.302, R2 = 0.681\n",
      "🏃 View run painted-shark-57 at: http://mlflow:5000/#/experiments/0/runs/99055d2952374e0f9e260275b4937df5\n",
      "🧪 View experiment at: http://mlflow:5000/#/experiments/0\n",
      "🏃 View run lyrical-rook-739 at: http://mlflow:5000/#/experiments/0/runs/b5ebd173f3d04910895412e75335ab6d\n",
      "🧪 View experiment at: http://mlflow:5000/#/experiments/0\n"
     ]
    }
   ],
   "source": [
    "# 管理IDを発行（コードの実行に対して）\n",
    "with mlflow.start_run():\n",
    "    # ハイパーパラメータの試行水準\n",
    "    cand_n_estimators = [10, 100, 1000]\n",
    "    cand_max_depth = [1, 5, 10]\n",
    "\n",
    "    trial = 0\n",
    "    for n_estimators in cand_n_estimators:\n",
    "        for max_depth in cand_max_depth:\n",
    "            # 管理IDを発行（各パラメータ水準に対して）\n",
    "            with mlflow.start_run(nested=True):\n",
    "                trial += 1\n",
    "                model, mse, R2 = train(n_estimators, max_depth)\n",
    "                # 小数点以下３桁まで出力\n",
    "                print(f\"trial {trial}: n_estimators={n_estimators}, max_depth={max_depth}, MSE = {mse:.3}, R2 = {R2:.3}\")\n",
    "                # 追加箇所\n",
    "                # ハイパーパラメータ, 評価指標, 学習済みモデルをMLflowへ保存\n",
    "                mlflow.log_param(\"n_estimators\", n_estimators)\n",
    "                mlflow.log_param(\"max_depth\", max_depth)\n",
    "                mlflow.log_metric(\"mse\", mse)\n",
    "                mlflow.log_metric(\"R2\", R2)\n",
    "\n",
    "                mlflow.sklearn.log_model(model,\n",
    "                                         name=\"testmodel\",\n",
    "                                         signature=signature,\n",
    "                                         input_example=X_train[:5])"
   ]
  },
  {
   "cell_type": "code",
   "execution_count": null,
   "id": "57577a9b-c06f-4245-a295-18f3632d5af0",
   "metadata": {},
   "outputs": [],
   "source": []
  },
  {
   "cell_type": "code",
   "execution_count": null,
   "id": "3cdb2b65-904d-464c-ab26-e4a86a49f1f5",
   "metadata": {},
   "outputs": [],
   "source": []
  },
  {
   "cell_type": "code",
   "execution_count": null,
   "id": "52d6e9aa-678a-46e7-9459-d838d1de2e8b",
   "metadata": {},
   "outputs": [],
   "source": []
  },
  {
   "cell_type": "code",
   "execution_count": null,
   "id": "e26734be-4472-4ecb-84fe-6d0e898bf669",
   "metadata": {},
   "outputs": [],
   "source": []
  },
  {
   "cell_type": "code",
   "execution_count": null,
   "id": "95bb80b7-3829-43e9-98be-5bb4b20c366a",
   "metadata": {},
   "outputs": [],
   "source": []
  },
  {
   "cell_type": "code",
   "execution_count": null,
   "id": "639d6c5a-34a5-48b9-a5e3-91a49122ddd9",
   "metadata": {},
   "outputs": [],
   "source": []
  },
  {
   "cell_type": "code",
   "execution_count": null,
   "id": "38c16948-31bf-4267-a985-e5ae596c3abe",
   "metadata": {},
   "outputs": [],
   "source": []
  },
  {
   "cell_type": "code",
   "execution_count": null,
   "id": "f9f9a8c0-7ec2-4744-ab92-e8a496f1c673",
   "metadata": {},
   "outputs": [],
   "source": []
  },
  {
   "cell_type": "code",
   "execution_count": null,
   "id": "75cbec17-bd16-47a4-b958-68eede567238",
   "metadata": {},
   "outputs": [],
   "source": []
  },
  {
   "cell_type": "code",
   "execution_count": null,
   "id": "fb4efd43-a3a6-440a-b791-51c61a646b8d",
   "metadata": {},
   "outputs": [],
   "source": []
  },
  {
   "cell_type": "code",
   "execution_count": null,
   "id": "98770e57-323a-4934-b222-1f98b0dd13aa",
   "metadata": {},
   "outputs": [],
   "source": []
  },
  {
   "cell_type": "code",
   "execution_count": null,
   "id": "0c0ddce6-3d81-47a4-97ac-780e6c200bf2",
   "metadata": {},
   "outputs": [],
   "source": []
  }
 ],
 "metadata": {
  "kernelspec": {
   "display_name": "Python 3 (ipykernel)",
   "language": "python",
   "name": "python3"
  },
  "language_info": {
   "codemirror_mode": {
    "name": "ipython",
    "version": 3
   },
   "file_extension": ".py",
   "mimetype": "text/x-python",
   "name": "python",
   "nbconvert_exporter": "python",
   "pygments_lexer": "ipython3",
   "version": "3.11.6"
  }
 },
 "nbformat": 4,
 "nbformat_minor": 5
}
